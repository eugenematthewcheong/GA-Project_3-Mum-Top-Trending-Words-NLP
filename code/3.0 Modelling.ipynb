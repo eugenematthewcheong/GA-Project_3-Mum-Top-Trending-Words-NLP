{
 "cells": [
  {
   "cell_type": "markdown",
   "metadata": {},
   "source": [
    "<img src=\"http://imgur.com/1ZcRyrc.png\" style=\"float: left; margin: 20px; height: 55px\">\n",
    "\n",
    "# Project 3: 3.0 Model selection\n",
    "\n",
    "> Authors: Pius Yee, Conrad Aw, Eugene Matthew Cheong\n",
    "---"
   ]
  },
  {
   "cell_type": "markdown",
   "metadata": {},
   "source": [
    "## Table of Contents ##\n",
    "\n",
    "### [1.0 Data Collection](./1.0%20Web%20Scraping.ipynb) ###\n",
    "\n",
    "[1.1 Import Packages](./1.0%20Web%20Scraping.ipynb)\n",
    "\n",
    "[1.2 Webscraping](./1.0%20Web%20Scraping.ipynb)\n",
    "\n",
    "[1.3 Selection of subreddits](./1.0%20Web%20Scraping.ipynb)\n",
    "\n",
    "[1.4 Code for text scraping](./1.0%20Web%20Scraping.ipynb)\n",
    "\n",
    "### [2.0 Data Cleaning, Preprocessing and EDA](./2.0%20Data%20Cleaning%20&%20Preprocessing.ipynb)\n",
    "\n",
    "[2.1 Import CSV file](./2.0%20Data%20Cleaning%20&%20Preprocessing.ipynb)\n",
    "\n",
    "[2.2 Data cleaning](./2.0%20Data%20Cleaning%20&%20Preprocessing.ipynb)\n",
    "\n",
    "[2.3 Preprocessing](./2.0%20Data%20Cleaning%20&%20Preprocessing.ipynb)\n",
    "\n",
    "[2.4 Exploratory Data Analysis (EDA)](./2.0%20Data%20Cleaning%20&%20Preprocessing.ipynb)\n",
    "\n",
    "### 3. Modelling, Evaluation and Tuning\n",
    "\n",
    "[3.1 Import CSV file](#3.1-Import-CSV-file)\n",
    "\n",
    "[3.2 Splitting of train/test data](#3.2-Splitting-of-train/test-data)\n",
    "\n",
    "[3.3 Modelling](#3.3-Modelling)\n",
    "\n",
    "[3.4 Model Selection](#3.4-Model-Selection)\n",
    "\n",
    "[3.5 AUC-ROC](#3.5-AUC-ROC)\n",
    "\n",
    "[3.6 Save it as Pickle](#3.6-Save-it-as-Pickle)\n",
    "\n",
    "[3.7 Recommendations](#3.7-Recommendations)\n",
    "\n",
    "[3.8 Conclusion](#3.8-Conclusion)\n",
    "\n",
    "### [4. Model Testing](./4.0%20Model%20Test.ipynb)\n",
    "\n",
    "[4.1 Scraping Input Reddit](./4.0%20Model%20Test.ipynb)\n",
    "\n",
    "[4.2 Cleaning Data](./4.0%20Model%20Test.ipynb)\n",
    "\n",
    "[4.3 Tokenizing with Regex](./4.0%20Model%20Test.ipynb)\n",
    "\n",
    "[4.4 Stop Word Removal](./4.0%20Model%20Test.ipynb)\n",
    "\n",
    "[4.5 Lemmatization](./4.0%20Model%20Test.ipynb)\n",
    "\n",
    "[4.6 Run the model](./4.0%20Model%20Test.ipynb)\n",
    "\n",
    "---"
   ]
  },
  {
   "cell_type": "markdown",
   "metadata": {},
   "source": [
    "##### In this notebook, we will proceed with model tuning and selection based on the cleaned dataset from the previous notebook."
   ]
  },
  {
   "cell_type": "code",
   "execution_count": 1,
   "metadata": {},
   "outputs": [],
   "source": [
    "import pandas as pd\n",
    "import numpy as np\n",
    "import matplotlib.pyplot as plt\n",
    "%matplotlib inline\n",
    "import seaborn as sns\n",
    "pd.set_option('display.max_colwidth', 100)\n",
    "\n",
    "from sklearn.naive_bayes import MultinomialNB\n",
    "from sklearn.model_selection import train_test_split, GridSearchCV\n",
    "\n",
    "# Import CountVectorizer and TFIDFVectorizer from feature_extraction.text.\n",
    "from sklearn.feature_extraction.text import CountVectorizer, TfidfVectorizer\n",
    "from sklearn.pipeline import Pipeline\n",
    "from sklearn.metrics import confusion_matrix, ConfusionMatrixDisplay, RocCurveDisplay, roc_curve, roc_auc_score, accuracy_score, precision_score, recall_score, f1_score\n",
    "from sklearn.linear_model import LogisticRegression\n",
    "\n"
   ]
  },
  {
   "cell_type": "markdown",
   "metadata": {},
   "source": [
    "---\n",
    "### 3.1 Import CSV file"
   ]
  },
  {
   "cell_type": "code",
   "execution_count": 2,
   "metadata": {},
   "outputs": [],
   "source": [
    "# read the cleaned dataset from previous notebook\n",
    "\n",
    "final_df = pd.read_csv('../datasets/final_df.csv')"
   ]
  },
  {
   "cell_type": "code",
   "execution_count": 3,
   "metadata": {},
   "outputs": [
    {
     "data": {
      "text/html": [
       "<div>\n",
       "<style scoped>\n",
       "    .dataframe tbody tr th:only-of-type {\n",
       "        vertical-align: middle;\n",
       "    }\n",
       "\n",
       "    .dataframe tbody tr th {\n",
       "        vertical-align: top;\n",
       "    }\n",
       "\n",
       "    .dataframe thead th {\n",
       "        text-align: right;\n",
       "    }\n",
       "</style>\n",
       "<table border=\"1\" class=\"dataframe\">\n",
       "  <thead>\n",
       "    <tr style=\"text-align: right;\">\n",
       "      <th></th>\n",
       "      <th>Unnamed: 0</th>\n",
       "      <th>category</th>\n",
       "      <th>text</th>\n",
       "      <th>mum</th>\n",
       "    </tr>\n",
       "  </thead>\n",
       "  <tbody>\n",
       "    <tr>\n",
       "      <th>0</th>\n",
       "      <td>0</td>\n",
       "      <td>title</td>\n",
       "      <td>['dad', 'tip']</td>\n",
       "      <td>0</td>\n",
       "    </tr>\n",
       "    <tr>\n",
       "      <th>1</th>\n",
       "      <td>1</td>\n",
       "      <td>selftext</td>\n",
       "      <td>['found', 'couple', 'week', 'ago', 'friend', 'pregnant', 'first', 'wrote', 'help', 'prepare', 'f...</td>\n",
       "      <td>0</td>\n",
       "    </tr>\n",
       "    <tr>\n",
       "      <th>2</th>\n",
       "      <td>3</td>\n",
       "      <td>comment</td>\n",
       "      <td>['think', 'people', 'look', 'risk', 'decide', 'whats', 'best', 'based', 'situation', 'bedsharing...</td>\n",
       "      <td>0</td>\n",
       "    </tr>\n",
       "    <tr>\n",
       "      <th>3</th>\n",
       "      <td>5</td>\n",
       "      <td>comment</td>\n",
       "      <td>['one', 'hate', 'air', 'conditioning', 'house', 'made', 'proper', 'material', 'making', 'ductwor...</td>\n",
       "      <td>0</td>\n",
       "    </tr>\n",
       "    <tr>\n",
       "      <th>4</th>\n",
       "      <td>6</td>\n",
       "      <td>comment</td>\n",
       "      <td>['dont', 'cosleep', 'aside', 'sids', 'there', 'also', 'chance', 'crushing', 'kid']</td>\n",
       "      <td>0</td>\n",
       "    </tr>\n",
       "  </tbody>\n",
       "</table>\n",
       "</div>"
      ],
      "text/plain": [
       "   Unnamed: 0  category  \\\n",
       "0           0     title   \n",
       "1           1  selftext   \n",
       "2           3   comment   \n",
       "3           5   comment   \n",
       "4           6   comment   \n",
       "\n",
       "                                                                                                  text  \\\n",
       "0                                                                                       ['dad', 'tip']   \n",
       "1  ['found', 'couple', 'week', 'ago', 'friend', 'pregnant', 'first', 'wrote', 'help', 'prepare', 'f...   \n",
       "2  ['think', 'people', 'look', 'risk', 'decide', 'whats', 'best', 'based', 'situation', 'bedsharing...   \n",
       "3  ['one', 'hate', 'air', 'conditioning', 'house', 'made', 'proper', 'material', 'making', 'ductwor...   \n",
       "4                   ['dont', 'cosleep', 'aside', 'sids', 'there', 'also', 'chance', 'crushing', 'kid']   \n",
       "\n",
       "   mum  \n",
       "0    0  \n",
       "1    0  \n",
       "2    0  \n",
       "3    0  \n",
       "4    0  "
      ]
     },
     "execution_count": 3,
     "metadata": {},
     "output_type": "execute_result"
    }
   ],
   "source": [
    "final_df.head()"
   ]
  },
  {
   "cell_type": "markdown",
   "metadata": {},
   "source": [
    "---\n",
    "### 3.2 Splitting of train/test data"
   ]
  },
  {
   "cell_type": "markdown",
   "metadata": {},
   "source": [
    "### Based on the cleaned dataset, we will train a model to predict whether a text post belongs to 'mum' (1) or not (0). \n",
    "\n",
    "### We will split the dataset into 'train' and 'test' sets for model training purposes."
   ]
  },
  {
   "cell_type": "code",
   "execution_count": 4,
   "metadata": {},
   "outputs": [],
   "source": [
    "# assign X and y\n",
    "\n",
    "X = final_df.text\n",
    "y = final_df.mum"
   ]
  },
  {
   "cell_type": "code",
   "execution_count": 5,
   "metadata": {},
   "outputs": [],
   "source": [
    "# Split the data into the training and testing sets.\n",
    "X_train, X_test, y_train, y_test = train_test_split(X,\n",
    "                                                    y,\n",
    "                                                    test_size=0.20,\n",
    "                                                    stratify=y, # we used stratify since our dataset is imbalanced\n",
    "                                                    random_state=42)"
   ]
  },
  {
   "cell_type": "markdown",
   "metadata": {},
   "source": [
    "---\n",
    "### 3.3 Modelling"
   ]
  },
  {
   "cell_type": "markdown",
   "metadata": {},
   "source": [
    "### **Model**\n",
    "\n",
    "##### We will tune two models and select the model with the best score as our final model.\n",
    "\n",
    "##### (1) Naive Bayes (Multinomial)\n",
    "\n",
    "##### (2) Logistics Regression\n",
    "\n",
    "### **Approaches**\n",
    "\n",
    "##### We will tune the model using GridSearchCV with our pipeline. This means we will tune hyperparameters associated with specific steps within the pipeline. \n",
    "\n",
    "##### To optimize model performance, we will use GridSearch to tune the hyperparameters of all of our models and vectorizers. Then we will compare the resulting optimized models and choose the best out of them.\n",
    "\n",
    "##### To simplify this  process, we've created a function to generate a dictionary containing the results from Gridsearch.\n",
    "\n",
    "### **Metrics**\n",
    "\n",
    "##### For model metrics, we will use **F1 score** as our main metrics to assess the model.\n",
    "\n",
    "##### The main reason for using F1 score as the main metric is to find a good balance between precision and sensitivity. Both the metrics are important for our model because it will use the classifier to identify \"mum\" comments from the datasets. Precision helps to maximize the true positive out of all the model predicted as positive, and sensitivity is for true positives out of all positive posts in the datasets.\n",
    "\n",
    "##### (1) F1 Score: Harmonic mean of precision and sensitivity, combining both metrics into a single score that penalizes models with uneven class distribution. **Primary metrics\n",
    "\n",
    "##### (2) Precision: Measures the proportion of positive predictions that were actually correct (positive predictive value).\n",
    "\n",
    "##### (3) Sensitivity (Recall): The proportion of actual positive cases that the model correctly identified (true positives out of all positive examples).**\n",
    "\n",
    "##### (4) Specificity: Measures the proportion of negative predictions that were actually correct (true negative rate).\n",
    "\n",
    "##### (5) Accuracy: Overall proportion of correct predictions (both positive and negative).\n",
    "\n",
    "\n"
   ]
  },
  {
   "cell_type": "markdown",
   "metadata": {},
   "source": [
    "---\n",
    "### **Baseline**\n",
    "\n",
    "##### We always begin by creating a baseline model to provide a comparison point for our subsequent models. In this case, we can use the normalized value of 'y'. This represents the simplest possible model – randomly assigning posts would still give us a 39% chance of classifying them correctly."
   ]
  },
  {
   "cell_type": "code",
   "execution_count": 6,
   "metadata": {},
   "outputs": [
    {
     "data": {
      "text/plain": [
       "mum\n",
       "0    0.611611\n",
       "1    0.388389\n",
       "Name: proportion, dtype: float64"
      ]
     },
     "execution_count": 6,
     "metadata": {},
     "output_type": "execute_result"
    }
   ],
   "source": [
    "# baseline model\n",
    "y.value_counts(normalize = True)"
   ]
  },
  {
   "cell_type": "markdown",
   "metadata": {},
   "source": [
    "---"
   ]
  },
  {
   "cell_type": "markdown",
   "metadata": {},
   "source": [
    "## Model 1 - Multinomial Naive Bayes"
   ]
  },
  {
   "cell_type": "markdown",
   "metadata": {},
   "source": [
    "##### The model will be trained using CountVectorizer and TF-IDF. The following parameters in the pipeline will be considered:\n",
    "\n",
    "(1) **Max features**: Controls the maximum number of features (words/terms) considered from the vocabulary when creating the vectorized representation of the text.\n",
    "\n",
    "(2) **Min_df**: Sets a threshold for the minimum document frequency of a term – terms appearing in fewer documents than this threshold will be ignored.\n",
    "\n",
    "(3) **Max_df**: Sets a threshold for the maximum document frequency of a term – terms appearing in more documents than this threshold will be ignored.\n",
    "\n",
    "(4) **N-gram range**: Determines the range of n-grams to be extracted as features (e.g., an ngram_range of (1,2) will extract both single words and consecutive two-word phrases)."
   ]
  },
  {
   "cell_type": "code",
   "execution_count": 7,
   "metadata": {},
   "outputs": [],
   "source": [
    "# create a function to generate a dictionary of scores based on the model tuning parameters.\n",
    "\n",
    "def grid_nb(vector):\n",
    "\n",
    "    # instantiate vectorizer based on the given argument\n",
    "    if vector == \"cvec\": # for countVector\n",
    "        pipe = Pipeline([\n",
    "        ('cvec', CountVectorizer()),\n",
    "        ('nb', MultinomialNB())\n",
    "        ])\n",
    "    elif vector == \"tvec\": # for TF-IDF\n",
    "         pipe = Pipeline([\n",
    "        ('tvec', TfidfVectorizer()),\n",
    "        ('nb', MultinomialNB())\n",
    "        ])       \n",
    "         \n",
    "    # set the pipeline\n",
    "    pipe_params = {\n",
    "    vector+'__max_features': [7000,8000,9000], # range 7000 to 9000 is the best for max features based on our experiment\n",
    "    vector+'__min_df': [1, 2], # lower minimum threshold for frequency is better\n",
    "    vector+'__max_df': [.1, .2, .3], # range 0.1 to 0.3 is the best\n",
    "    vector+'__ngram_range': [(1,1), (1,2), (1,3)] \n",
    "    }\n",
    "\n",
    "    # set the gridsearch\n",
    "    gs = GridSearchCV(pipe, \n",
    "                  param_grid=pipe_params, # parameter values\n",
    "                  n_jobs=-1,\n",
    "                  verbose = 1,\n",
    "                  scoring= \"f1\",\n",
    "                  cv=5) # 5-fold cross-validation.\n",
    "\n",
    "    # fit the gridsearch on train data\n",
    "    gs.fit(X_train, y_train)\n",
    "\n",
    "    # set up the metrics\n",
    "    y_pred = gs.predict(X_test) # get prediction\n",
    "    tn, fp, fn, tp = confusion_matrix(y_test,y_pred).ravel() # confusion matrix and assign result\n",
    "    precision = tp /(tp+fp)\n",
    "    sensitivity = tp / (tp+fn)\n",
    "\n",
    "\n",
    "    # creata a dictionary for the score\n",
    "    result_dict = {\n",
    "        \"Model\": \"Naive Bayes - Multinomial\",\n",
    "        \"Vectorizer\": (\"CountVectorizer\" if vector == \"cvec\" else \"TfidfVectorizer\"),\n",
    "        \"Best parameter\": gs.best_params_,\n",
    "        \"Average F1 score with 5 folds\": gs.best_score_ ,\n",
    "        \"F1 score on train\": gs.score(X_train, y_train),\n",
    "        \"F1 score on test\": gs.score(X_test, y_test),\n",
    "        \"Sensitivity\": sensitivity,\n",
    "        \"Precision\": (precision),\n",
    "        \"Specificity\": tn / (tn+fp),\n",
    "        \"Accuracy\": ((tp+tn)/(tp+tn+fp+fn))\n",
    "        \n",
    "        }\n",
    "\n",
    "    return result_dict # return the dictionary"
   ]
  },
  {
   "cell_type": "markdown",
   "metadata": {},
   "source": [
    "##### Run the function to generate the scores based on the vectorization\n",
    "(1) cvec: CountVectorizor\n",
    "(2) tvec: TF-IDF vectorizor"
   ]
  },
  {
   "cell_type": "code",
   "execution_count": 8,
   "metadata": {},
   "outputs": [
    {
     "name": "stdout",
     "output_type": "stream",
     "text": [
      "Fitting 5 folds for each of 54 candidates, totalling 270 fits\n"
     ]
    },
    {
     "name": "stdout",
     "output_type": "stream",
     "text": [
      "Fitting 5 folds for each of 54 candidates, totalling 270 fits\n"
     ]
    }
   ],
   "source": [
    "naive_cvec_dict = grid_nb(\"cvec\") # Call the function for \"CountVectorizor\"\n",
    "naive_tvec_dict = grid_nb(\"tvec\") # Call the function for \"TF-IDF\" vectorizor"
   ]
  },
  {
   "cell_type": "markdown",
   "metadata": {},
   "source": [
    "##### For better readability, we put both dictionary from \"CountVectorizor\" and \"TF_IDF\" in a dataframe"
   ]
  },
  {
   "cell_type": "code",
   "execution_count": 9,
   "metadata": {},
   "outputs": [
    {
     "data": {
      "text/html": [
       "<div>\n",
       "<style scoped>\n",
       "    .dataframe tbody tr th:only-of-type {\n",
       "        vertical-align: middle;\n",
       "    }\n",
       "\n",
       "    .dataframe tbody tr th {\n",
       "        vertical-align: top;\n",
       "    }\n",
       "\n",
       "    .dataframe thead th {\n",
       "        text-align: right;\n",
       "    }\n",
       "</style>\n",
       "<table border=\"1\" class=\"dataframe\">\n",
       "  <thead>\n",
       "    <tr style=\"text-align: right;\">\n",
       "      <th></th>\n",
       "      <th>Model</th>\n",
       "      <th>Vectorizer</th>\n",
       "      <th>Best parameter</th>\n",
       "      <th>Average F1 score with 5 folds</th>\n",
       "      <th>F1 score on train</th>\n",
       "      <th>F1 score on test</th>\n",
       "      <th>Sensitivity</th>\n",
       "      <th>Precision</th>\n",
       "      <th>Specificity</th>\n",
       "      <th>Accuracy</th>\n",
       "    </tr>\n",
       "  </thead>\n",
       "  <tbody>\n",
       "    <tr>\n",
       "      <th>0</th>\n",
       "      <td>Naive Bayes - Multinomial</td>\n",
       "      <td>CountVectorizer</td>\n",
       "      <td>{'cvec__max_df': 0.3, 'cvec__max_features': 9000, 'cvec__min_df': 2, 'cvec__ngram_range': (1, 1)}</td>\n",
       "      <td>0.720852</td>\n",
       "      <td>0.76459</td>\n",
       "      <td>0.731145</td>\n",
       "      <td>0.708710</td>\n",
       "      <td>0.755047</td>\n",
       "      <td>0.854013</td>\n",
       "      <td>0.797584</td>\n",
       "    </tr>\n",
       "    <tr>\n",
       "      <th>1</th>\n",
       "      <td>Naive Bayes - Multinomial</td>\n",
       "      <td>TfidfVectorizer</td>\n",
       "      <td>{'tvec__max_df': 0.2, 'tvec__max_features': 9000, 'tvec__min_df': 2, 'tvec__ngram_range': (1, 2)}</td>\n",
       "      <td>0.629599</td>\n",
       "      <td>0.70049</td>\n",
       "      <td>0.640493</td>\n",
       "      <td>0.514423</td>\n",
       "      <td>0.848414</td>\n",
       "      <td>0.941641</td>\n",
       "      <td>0.775728</td>\n",
       "    </tr>\n",
       "  </tbody>\n",
       "</table>\n",
       "</div>"
      ],
      "text/plain": [
       "                       Model       Vectorizer  \\\n",
       "0  Naive Bayes - Multinomial  CountVectorizer   \n",
       "1  Naive Bayes - Multinomial  TfidfVectorizer   \n",
       "\n",
       "                                                                                      Best parameter  \\\n",
       "0  {'cvec__max_df': 0.3, 'cvec__max_features': 9000, 'cvec__min_df': 2, 'cvec__ngram_range': (1, 1)}   \n",
       "1  {'tvec__max_df': 0.2, 'tvec__max_features': 9000, 'tvec__min_df': 2, 'tvec__ngram_range': (1, 2)}   \n",
       "\n",
       "   Average F1 score with 5 folds  F1 score on train  F1 score on test  \\\n",
       "0                       0.720852            0.76459          0.731145   \n",
       "1                       0.629599            0.70049          0.640493   \n",
       "\n",
       "   Sensitivity  Precision  Specificity  Accuracy  \n",
       "0     0.708710   0.755047     0.854013  0.797584  \n",
       "1     0.514423   0.848414     0.941641  0.775728  "
      ]
     },
     "execution_count": 9,
     "metadata": {},
     "output_type": "execute_result"
    }
   ],
   "source": [
    "pd.DataFrame([naive_cvec_dict,naive_tvec_dict])"
   ]
  },
  {
   "cell_type": "markdown",
   "metadata": {},
   "source": [
    "---"
   ]
  },
  {
   "cell_type": "markdown",
   "metadata": {},
   "source": [
    "## Model 2 - Logistics Regression"
   ]
  },
  {
   "cell_type": "markdown",
   "metadata": {},
   "source": [
    "##### Similar to Model 1 - Naive Bayes, the model 2 (Logistic Regression) will be trained using CountVectorizer and TF-IDF. The following additional parameters in the pipeline will be considered:\n",
    "\n",
    "(1) **Penalty**: Controls the amount of regularization applied to the model to prevent overfitting. Common options are 'l1' (L1 regularization) for sparse models and 'l2' (L2 regularization) to reduce model complexity.\n",
    "\n",
    "(2) **Solver**: The optimization algorithm used to find the coefficients that minimize the loss function. In our case, we only used the common choices 'liblinear' which usually for smaller datasets.\n",
    "\n",
    "(3) **C**: Inverse of the regularization strength; a larger C value means less regularization. This parameter influences the trade-off between fitting the training data and avoiding overfitting.\n"
   ]
  },
  {
   "cell_type": "code",
   "execution_count": 10,
   "metadata": {},
   "outputs": [],
   "source": [
    "def grid_lr(vector):\n",
    "\n",
    "    # instantiate vectorizer based on the given argument\n",
    "    if vector == \"cvec\": # for countVector\n",
    "        pipe = Pipeline([\n",
    "        ('cvec', CountVectorizer()),\n",
    "        ('lr', LogisticRegression())\n",
    "        ])\n",
    "    elif vector == \"tvec\": # for TF-IDF\n",
    "         pipe = Pipeline([\n",
    "        ('tvec', TfidfVectorizer()),\n",
    "        ('lr', LogisticRegression())\n",
    "        ])       \n",
    "         \n",
    "    # set the pipeline\n",
    "    pipe_params = {\n",
    "    vector+'__max_features': [9000,10000,11000],\n",
    "    vector+'__min_df': [2, 3],\n",
    "    vector+'__max_df': [.2, .3, .4],\n",
    "    vector+'__ngram_range': [(1,1), (1,2), (1,3)],\n",
    "    'lr__penalty': ['l1','l2'], #L1 is lasso and L2 is Ridge\n",
    "    'lr__solver':['liblinear'],\n",
    "    'lr__C': [0.1, 0.2,1],\n",
    "    }\n",
    "\n",
    "    # set the gridsearch\n",
    "    gs = GridSearchCV(pipe, \n",
    "                  param_grid=pipe_params, # parameters values\n",
    "                  n_jobs=-1,\n",
    "                  verbose = 1,\n",
    "                  scoring= \"f1\",\n",
    "                  cv=5) # 5-fold cross-validation.\n",
    "\n",
    "    # fit the gridsearch on train data\n",
    "    gs.fit(X_train, y_train)\n",
    "\n",
    "    # set up the metrics\n",
    "    y_pred = gs.predict(X_test) # get prediction\n",
    "    tn, fp, fn, tp = confusion_matrix(y_test,y_pred).ravel() # confusion matrix and assign result\n",
    "    precision = tp /(tp+fp)\n",
    "    sensitivity = tp / (tp+fn)\n",
    "\n",
    "\n",
    "    # creata a dictionary for the score\n",
    "    result_dict = {\n",
    "        \"Model\": \"Logistics Regression\",\n",
    "        \"Vectorizer\": (\"CountVectorizer\" if vector == \"cvec\" else \"TfidfVectorizer\"),\n",
    "        \"Best parameter\": gs.best_params_,\n",
    "        \"Average F1 score with 5 folds\": gs.best_score_ ,\n",
    "        \"F1 score on train\": gs.score(X_train, y_train),\n",
    "        \"F1 score on test\": gs.score(X_test, y_test),\n",
    "        \"Sensitivity\": sensitivity,\n",
    "        \"Precision\": precision,\n",
    "        \"Specificity\": tn / (tn+fp),\n",
    "        \"Accuracy\": ((tp+tn)/(tp+tn+fp+fn))\n",
    "        \n",
    "        }\n",
    "\n",
    "    return result_dict"
   ]
  },
  {
   "cell_type": "markdown",
   "metadata": {},
   "source": [
    "##### Run the function to generate the scores based on the vectorization\n",
    "(1) cvec: CountVectorizor\n",
    "(2) tvec: TF-IDF vectorizor"
   ]
  },
  {
   "cell_type": "code",
   "execution_count": 11,
   "metadata": {},
   "outputs": [
    {
     "name": "stdout",
     "output_type": "stream",
     "text": [
      "Fitting 5 folds for each of 324 candidates, totalling 1620 fits\n",
      "Fitting 5 folds for each of 324 candidates, totalling 1620 fits\n"
     ]
    }
   ],
   "source": [
    "logistics_cvec_dict = grid_lr(\"cvec\")\n",
    "logistics_tvec_dict = grid_lr(\"tvec\")"
   ]
  },
  {
   "cell_type": "markdown",
   "metadata": {},
   "source": [
    "##### For better readability, we put both dictionary from \"CountVectorizor\" and \"TF_IDF\" in a dataframe"
   ]
  },
  {
   "cell_type": "code",
   "execution_count": 12,
   "metadata": {},
   "outputs": [
    {
     "data": {
      "text/html": [
       "<div>\n",
       "<style scoped>\n",
       "    .dataframe tbody tr th:only-of-type {\n",
       "        vertical-align: middle;\n",
       "    }\n",
       "\n",
       "    .dataframe tbody tr th {\n",
       "        vertical-align: top;\n",
       "    }\n",
       "\n",
       "    .dataframe thead th {\n",
       "        text-align: right;\n",
       "    }\n",
       "</style>\n",
       "<table border=\"1\" class=\"dataframe\">\n",
       "  <thead>\n",
       "    <tr style=\"text-align: right;\">\n",
       "      <th></th>\n",
       "      <th>Model</th>\n",
       "      <th>Vectorizer</th>\n",
       "      <th>Best parameter</th>\n",
       "      <th>Average F1 score with 5 folds</th>\n",
       "      <th>F1 score on train</th>\n",
       "      <th>F1 score on test</th>\n",
       "      <th>Sensitivity</th>\n",
       "      <th>Precision</th>\n",
       "      <th>Specificity</th>\n",
       "      <th>Accuracy</th>\n",
       "    </tr>\n",
       "  </thead>\n",
       "  <tbody>\n",
       "    <tr>\n",
       "      <th>0</th>\n",
       "      <td>Logistics Regression</td>\n",
       "      <td>CountVectorizer</td>\n",
       "      <td>{'cvec__max_df': 0.3, 'cvec__max_features': 11000, 'cvec__min_df': 2, 'cvec__ngram_range': (1, 1...</td>\n",
       "      <td>0.710769</td>\n",
       "      <td>0.844581</td>\n",
       "      <td>0.710260</td>\n",
       "      <td>0.655826</td>\n",
       "      <td>0.774549</td>\n",
       "      <td>0.878793</td>\n",
       "      <td>0.792202</td>\n",
       "    </tr>\n",
       "    <tr>\n",
       "      <th>1</th>\n",
       "      <td>Logistics Regression</td>\n",
       "      <td>TfidfVectorizer</td>\n",
       "      <td>{'lr__C': 1, 'lr__penalty': 'l2', 'lr__solver': 'liblinear', 'tvec__max_df': 0.3, 'tvec__max_fea...</td>\n",
       "      <td>0.710110</td>\n",
       "      <td>0.780063</td>\n",
       "      <td>0.715776</td>\n",
       "      <td>0.649887</td>\n",
       "      <td>0.796534</td>\n",
       "      <td>0.894595</td>\n",
       "      <td>0.799561</td>\n",
       "    </tr>\n",
       "  </tbody>\n",
       "</table>\n",
       "</div>"
      ],
      "text/plain": [
       "                  Model       Vectorizer  \\\n",
       "0  Logistics Regression  CountVectorizer   \n",
       "1  Logistics Regression  TfidfVectorizer   \n",
       "\n",
       "                                                                                        Best parameter  \\\n",
       "0  {'cvec__max_df': 0.3, 'cvec__max_features': 11000, 'cvec__min_df': 2, 'cvec__ngram_range': (1, 1...   \n",
       "1  {'lr__C': 1, 'lr__penalty': 'l2', 'lr__solver': 'liblinear', 'tvec__max_df': 0.3, 'tvec__max_fea...   \n",
       "\n",
       "   Average F1 score with 5 folds  F1 score on train  F1 score on test  \\\n",
       "0                       0.710769           0.844581          0.710260   \n",
       "1                       0.710110           0.780063          0.715776   \n",
       "\n",
       "   Sensitivity  Precision  Specificity  Accuracy  \n",
       "0     0.655826   0.774549     0.878793  0.792202  \n",
       "1     0.649887   0.796534     0.894595  0.799561  "
      ]
     },
     "execution_count": 12,
     "metadata": {},
     "output_type": "execute_result"
    }
   ],
   "source": [
    "pd.DataFrame([logistics_cvec_dict,logistics_tvec_dict])"
   ]
  },
  {
   "cell_type": "markdown",
   "metadata": {},
   "source": [
    "---\n",
    "### 3.4 Model Selection"
   ]
  },
  {
   "cell_type": "markdown",
   "metadata": {},
   "source": [
    "##### Combined both model scores (Naive Bayes and Logistics Regression) into a dataframe for easy comparison"
   ]
  },
  {
   "cell_type": "code",
   "execution_count": 13,
   "metadata": {},
   "outputs": [
    {
     "data": {
      "text/html": [
       "<div>\n",
       "<style scoped>\n",
       "    .dataframe tbody tr th:only-of-type {\n",
       "        vertical-align: middle;\n",
       "    }\n",
       "\n",
       "    .dataframe tbody tr th {\n",
       "        vertical-align: top;\n",
       "    }\n",
       "\n",
       "    .dataframe thead th {\n",
       "        text-align: right;\n",
       "    }\n",
       "</style>\n",
       "<table border=\"1\" class=\"dataframe\">\n",
       "  <thead>\n",
       "    <tr style=\"text-align: right;\">\n",
       "      <th></th>\n",
       "      <th>Model</th>\n",
       "      <th>Vectorizer</th>\n",
       "      <th>Best parameter</th>\n",
       "      <th>Average F1 score with 5 folds</th>\n",
       "      <th>F1 score on train</th>\n",
       "      <th>F1 score on test</th>\n",
       "      <th>Sensitivity</th>\n",
       "      <th>Precision</th>\n",
       "      <th>Specificity</th>\n",
       "      <th>Accuracy</th>\n",
       "    </tr>\n",
       "  </thead>\n",
       "  <tbody>\n",
       "    <tr>\n",
       "      <th>0</th>\n",
       "      <td>Naive Bayes - Multinomial</td>\n",
       "      <td>CountVectorizer</td>\n",
       "      <td>{'cvec__max_df': 0.3, 'cvec__max_features': 9000, 'cvec__min_df': 2, 'cvec__ngram_range': (1, 1)}</td>\n",
       "      <td>0.720852</td>\n",
       "      <td>0.764590</td>\n",
       "      <td>0.731145</td>\n",
       "      <td>0.708710</td>\n",
       "      <td>0.755047</td>\n",
       "      <td>0.854013</td>\n",
       "      <td>0.797584</td>\n",
       "    </tr>\n",
       "    <tr>\n",
       "      <th>1</th>\n",
       "      <td>Naive Bayes - Multinomial</td>\n",
       "      <td>TfidfVectorizer</td>\n",
       "      <td>{'tvec__max_df': 0.2, 'tvec__max_features': 9000, 'tvec__min_df': 2, 'tvec__ngram_range': (1, 2)}</td>\n",
       "      <td>0.629599</td>\n",
       "      <td>0.700490</td>\n",
       "      <td>0.640493</td>\n",
       "      <td>0.514423</td>\n",
       "      <td>0.848414</td>\n",
       "      <td>0.941641</td>\n",
       "      <td>0.775728</td>\n",
       "    </tr>\n",
       "    <tr>\n",
       "      <th>2</th>\n",
       "      <td>Logistics Regression</td>\n",
       "      <td>CountVectorizer</td>\n",
       "      <td>{'cvec__max_df': 0.3, 'cvec__max_features': 11000, 'cvec__min_df': 2, 'cvec__ngram_range': (1, 1...</td>\n",
       "      <td>0.710769</td>\n",
       "      <td>0.844581</td>\n",
       "      <td>0.710260</td>\n",
       "      <td>0.655826</td>\n",
       "      <td>0.774549</td>\n",
       "      <td>0.878793</td>\n",
       "      <td>0.792202</td>\n",
       "    </tr>\n",
       "    <tr>\n",
       "      <th>3</th>\n",
       "      <td>Logistics Regression</td>\n",
       "      <td>TfidfVectorizer</td>\n",
       "      <td>{'lr__C': 1, 'lr__penalty': 'l2', 'lr__solver': 'liblinear', 'tvec__max_df': 0.3, 'tvec__max_fea...</td>\n",
       "      <td>0.710110</td>\n",
       "      <td>0.780063</td>\n",
       "      <td>0.715776</td>\n",
       "      <td>0.649887</td>\n",
       "      <td>0.796534</td>\n",
       "      <td>0.894595</td>\n",
       "      <td>0.799561</td>\n",
       "    </tr>\n",
       "  </tbody>\n",
       "</table>\n",
       "</div>"
      ],
      "text/plain": [
       "                       Model       Vectorizer  \\\n",
       "0  Naive Bayes - Multinomial  CountVectorizer   \n",
       "1  Naive Bayes - Multinomial  TfidfVectorizer   \n",
       "2       Logistics Regression  CountVectorizer   \n",
       "3       Logistics Regression  TfidfVectorizer   \n",
       "\n",
       "                                                                                        Best parameter  \\\n",
       "0    {'cvec__max_df': 0.3, 'cvec__max_features': 9000, 'cvec__min_df': 2, 'cvec__ngram_range': (1, 1)}   \n",
       "1    {'tvec__max_df': 0.2, 'tvec__max_features': 9000, 'tvec__min_df': 2, 'tvec__ngram_range': (1, 2)}   \n",
       "2  {'cvec__max_df': 0.3, 'cvec__max_features': 11000, 'cvec__min_df': 2, 'cvec__ngram_range': (1, 1...   \n",
       "3  {'lr__C': 1, 'lr__penalty': 'l2', 'lr__solver': 'liblinear', 'tvec__max_df': 0.3, 'tvec__max_fea...   \n",
       "\n",
       "   Average F1 score with 5 folds  F1 score on train  F1 score on test  \\\n",
       "0                       0.720852           0.764590          0.731145   \n",
       "1                       0.629599           0.700490          0.640493   \n",
       "2                       0.710769           0.844581          0.710260   \n",
       "3                       0.710110           0.780063          0.715776   \n",
       "\n",
       "   Sensitivity  Precision  Specificity  Accuracy  \n",
       "0     0.708710   0.755047     0.854013  0.797584  \n",
       "1     0.514423   0.848414     0.941641  0.775728  \n",
       "2     0.655826   0.774549     0.878793  0.792202  \n",
       "3     0.649887   0.796534     0.894595  0.799561  "
      ]
     },
     "execution_count": 13,
     "metadata": {},
     "output_type": "execute_result"
    }
   ],
   "source": [
    "final_result_df = pd.DataFrame([naive_cvec_dict,naive_tvec_dict,logistics_cvec_dict,logistics_tvec_dict])\n",
    "final_result_df"
   ]
  },
  {
   "cell_type": "markdown",
   "metadata": {},
   "source": [
    "##### Naive Bayes (multinomial) with CountVectorizer has the best score with the highest **F1 score** of 0.720852 (average F1 score with 5 folds), which is the primary metric for our case.\n",
    "##### The details as below:-"
   ]
  },
  {
   "cell_type": "code",
   "execution_count": 14,
   "metadata": {},
   "outputs": [
    {
     "name": "stdout",
     "output_type": "stream",
     "text": [
      "Model                                                                                                    Naive Bayes - Multinomial\n",
      "Vectorizer                                                                                                         CountVectorizer\n",
      "Best parameter                   {'cvec__max_df': 0.3, 'cvec__max_features': 9000, 'cvec__min_df': 2, 'cvec__ngram_range': (1, 1)}\n",
      "Average F1 score with 5 folds                                                                                             0.720852\n",
      "F1 score on train                                                                                                          0.76459\n",
      "F1 score on test                                                                                                          0.731145\n",
      "Sensitivity                                                                                                                0.70871\n",
      "Precision                                                                                                                 0.755047\n",
      "Specificity                                                                                                               0.854013\n",
      "Accuracy                                                                                                                  0.797584\n",
      "Name: 0, dtype: object\n"
     ]
    }
   ],
   "source": [
    "print(final_result_df.iloc[0])"
   ]
  },
  {
   "cell_type": "markdown",
   "metadata": {},
   "source": [
    "#### Re-run the final model\n",
    "\n",
    "##### Now we have identified Naive Bayes (multinomial) with CountVectorizor as our final model. We will re-run the model to save it as pickle and use it for Streamlit."
   ]
  },
  {
   "cell_type": "code",
   "execution_count": 15,
   "metadata": {},
   "outputs": [],
   "source": [
    "# Set params based on the best model identified above\n",
    "\n",
    "cvec_params ={\n",
    " 'max_df': 0.3,\n",
    " 'max_features': 9000,\n",
    " 'min_df': 2,\n",
    " 'ngram_range': (1, 1)}"
   ]
  },
  {
   "cell_type": "code",
   "execution_count": 16,
   "metadata": {},
   "outputs": [],
   "source": [
    "# Set pipeline to include the vectorizor and model\n",
    "\n",
    "pipeline = Pipeline([\n",
    "    ('tvec', CountVectorizer(**cvec_params)),\n",
    "    ('nb', MultinomialNB())\n",
    "])"
   ]
  },
  {
   "cell_type": "code",
   "execution_count": 17,
   "metadata": {},
   "outputs": [
    {
     "data": {
      "text/html": [
       "<style>#sk-container-id-1 {color: black;}#sk-container-id-1 pre{padding: 0;}#sk-container-id-1 div.sk-toggleable {background-color: white;}#sk-container-id-1 label.sk-toggleable__label {cursor: pointer;display: block;width: 100%;margin-bottom: 0;padding: 0.3em;box-sizing: border-box;text-align: center;}#sk-container-id-1 label.sk-toggleable__label-arrow:before {content: \"▸\";float: left;margin-right: 0.25em;color: #696969;}#sk-container-id-1 label.sk-toggleable__label-arrow:hover:before {color: black;}#sk-container-id-1 div.sk-estimator:hover label.sk-toggleable__label-arrow:before {color: black;}#sk-container-id-1 div.sk-toggleable__content {max-height: 0;max-width: 0;overflow: hidden;text-align: left;background-color: #f0f8ff;}#sk-container-id-1 div.sk-toggleable__content pre {margin: 0.2em;color: black;border-radius: 0.25em;background-color: #f0f8ff;}#sk-container-id-1 input.sk-toggleable__control:checked~div.sk-toggleable__content {max-height: 200px;max-width: 100%;overflow: auto;}#sk-container-id-1 input.sk-toggleable__control:checked~label.sk-toggleable__label-arrow:before {content: \"▾\";}#sk-container-id-1 div.sk-estimator input.sk-toggleable__control:checked~label.sk-toggleable__label {background-color: #d4ebff;}#sk-container-id-1 div.sk-label input.sk-toggleable__control:checked~label.sk-toggleable__label {background-color: #d4ebff;}#sk-container-id-1 input.sk-hidden--visually {border: 0;clip: rect(1px 1px 1px 1px);clip: rect(1px, 1px, 1px, 1px);height: 1px;margin: -1px;overflow: hidden;padding: 0;position: absolute;width: 1px;}#sk-container-id-1 div.sk-estimator {font-family: monospace;background-color: #f0f8ff;border: 1px dotted black;border-radius: 0.25em;box-sizing: border-box;margin-bottom: 0.5em;}#sk-container-id-1 div.sk-estimator:hover {background-color: #d4ebff;}#sk-container-id-1 div.sk-parallel-item::after {content: \"\";width: 100%;border-bottom: 1px solid gray;flex-grow: 1;}#sk-container-id-1 div.sk-label:hover label.sk-toggleable__label {background-color: #d4ebff;}#sk-container-id-1 div.sk-serial::before {content: \"\";position: absolute;border-left: 1px solid gray;box-sizing: border-box;top: 0;bottom: 0;left: 50%;z-index: 0;}#sk-container-id-1 div.sk-serial {display: flex;flex-direction: column;align-items: center;background-color: white;padding-right: 0.2em;padding-left: 0.2em;position: relative;}#sk-container-id-1 div.sk-item {position: relative;z-index: 1;}#sk-container-id-1 div.sk-parallel {display: flex;align-items: stretch;justify-content: center;background-color: white;position: relative;}#sk-container-id-1 div.sk-item::before, #sk-container-id-1 div.sk-parallel-item::before {content: \"\";position: absolute;border-left: 1px solid gray;box-sizing: border-box;top: 0;bottom: 0;left: 50%;z-index: -1;}#sk-container-id-1 div.sk-parallel-item {display: flex;flex-direction: column;z-index: 1;position: relative;background-color: white;}#sk-container-id-1 div.sk-parallel-item:first-child::after {align-self: flex-end;width: 50%;}#sk-container-id-1 div.sk-parallel-item:last-child::after {align-self: flex-start;width: 50%;}#sk-container-id-1 div.sk-parallel-item:only-child::after {width: 0;}#sk-container-id-1 div.sk-dashed-wrapped {border: 1px dashed gray;margin: 0 0.4em 0.5em 0.4em;box-sizing: border-box;padding-bottom: 0.4em;background-color: white;}#sk-container-id-1 div.sk-label label {font-family: monospace;font-weight: bold;display: inline-block;line-height: 1.2em;}#sk-container-id-1 div.sk-label-container {text-align: center;}#sk-container-id-1 div.sk-container {/* jupyter's `normalize.less` sets `[hidden] { display: none; }` but bootstrap.min.css set `[hidden] { display: none !important; }` so we also need the `!important` here to be able to override the default hidden behavior on the sphinx rendered scikit-learn.org. See: https://github.com/scikit-learn/scikit-learn/issues/21755 */display: inline-block !important;position: relative;}#sk-container-id-1 div.sk-text-repr-fallback {display: none;}</style><div id=\"sk-container-id-1\" class=\"sk-top-container\"><div class=\"sk-text-repr-fallback\"><pre>Pipeline(steps=[(&#x27;tvec&#x27;,\n",
       "                 CountVectorizer(max_df=0.3, max_features=9000, min_df=2)),\n",
       "                (&#x27;nb&#x27;, MultinomialNB())])</pre><b>In a Jupyter environment, please rerun this cell to show the HTML representation or trust the notebook. <br />On GitHub, the HTML representation is unable to render, please try loading this page with nbviewer.org.</b></div><div class=\"sk-container\" hidden><div class=\"sk-item sk-dashed-wrapped\"><div class=\"sk-label-container\"><div class=\"sk-label sk-toggleable\"><input class=\"sk-toggleable__control sk-hidden--visually\" id=\"sk-estimator-id-1\" type=\"checkbox\" ><label for=\"sk-estimator-id-1\" class=\"sk-toggleable__label sk-toggleable__label-arrow\">Pipeline</label><div class=\"sk-toggleable__content\"><pre>Pipeline(steps=[(&#x27;tvec&#x27;,\n",
       "                 CountVectorizer(max_df=0.3, max_features=9000, min_df=2)),\n",
       "                (&#x27;nb&#x27;, MultinomialNB())])</pre></div></div></div><div class=\"sk-serial\"><div class=\"sk-item\"><div class=\"sk-estimator sk-toggleable\"><input class=\"sk-toggleable__control sk-hidden--visually\" id=\"sk-estimator-id-2\" type=\"checkbox\" ><label for=\"sk-estimator-id-2\" class=\"sk-toggleable__label sk-toggleable__label-arrow\">CountVectorizer</label><div class=\"sk-toggleable__content\"><pre>CountVectorizer(max_df=0.3, max_features=9000, min_df=2)</pre></div></div></div><div class=\"sk-item\"><div class=\"sk-estimator sk-toggleable\"><input class=\"sk-toggleable__control sk-hidden--visually\" id=\"sk-estimator-id-3\" type=\"checkbox\" ><label for=\"sk-estimator-id-3\" class=\"sk-toggleable__label sk-toggleable__label-arrow\">MultinomialNB</label><div class=\"sk-toggleable__content\"><pre>MultinomialNB()</pre></div></div></div></div></div></div></div>"
      ],
      "text/plain": [
       "Pipeline(steps=[('tvec',\n",
       "                 CountVectorizer(max_df=0.3, max_features=9000, min_df=2)),\n",
       "                ('nb', MultinomialNB())])"
      ]
     },
     "execution_count": 17,
     "metadata": {},
     "output_type": "execute_result"
    }
   ],
   "source": [
    "# Fit pipeline\n",
    "pipeline.fit(X_train, y_train)"
   ]
  },
  {
   "cell_type": "code",
   "execution_count": 18,
   "metadata": {},
   "outputs": [],
   "source": [
    "# Get prediction for X test\n",
    "y_pred = pipeline.predict(X_test)"
   ]
  },
  {
   "cell_type": "markdown",
   "metadata": {},
   "source": [
    "##### Now we have fitted the best model to \"pipeline\".\n",
    "\n",
    "##### The confusion matrix as below:-"
   ]
  },
  {
   "cell_type": "code",
   "execution_count": 19,
   "metadata": {},
   "outputs": [],
   "source": [
    "# Build the confusion matrix\n",
    "\n",
    "tn, fp, fn, tp = confusion_matrix(y_test,y_pred).ravel() # confusion matrix and assign result\n",
    "precision = tp /(tp+fp)\n",
    "sensitivity = tp / (tp+fn)\n",
    "f1_score = 2 * (precision * sensitivity) / (precision + sensitivity) # F1 Score = 2 * (precision * recall) / (precision + recall)"
   ]
  },
  {
   "cell_type": "code",
   "execution_count": 20,
   "metadata": {},
   "outputs": [
    {
     "data": {
      "image/png": "[encoded data removed]",
      "text/plain": [
       "<Figure size 640x480 with 2 Axes>"
      ]
     },
     "metadata": {},
     "output_type": "display_data"
    },
    {
     "name": "stdout",
     "output_type": "stream",
     "text": [
      "{'True Positive': 2506, 'True Negative': 4756, 'False Positive': 813, 'False Negative': 1030}\n"
     ]
    }
   ],
   "source": [
    "# plot the confusion matrix\n",
    "\n",
    "disp = ConfusionMatrixDisplay(confusion_matrix(y_test,y_pred),display_labels=['Positive', 'Negative'])\n",
    "disp.plot(include_values=True);\n",
    "plt.title(\"Confusion matrix for the best model\")\n",
    "plt.show()\n",
    "print({'True Positive':tp, \"True Negative\": tn, \"False Positive\":fp, \"False Negative\": fn})"
   ]
  },
  {
   "cell_type": "markdown",
   "metadata": {},
   "source": [
    "##### Based on the confusion matrix above, we have strong true positive (4756) and true negative (2506). It indicates that we are able to predict majority of correct \"mum\" and \"non-mum\" comments accurately."
   ]
  },
  {
   "cell_type": "markdown",
   "metadata": {},
   "source": [
    "---\n",
    "#### 3.5 AUC-ROC\n",
    "\n",
    "##### AUC-ROC (Area Under the Receiver Operating Characteristic Curve) is a single score summarizing how well a classification model distinguishes between positive and negative classes. It considers performance across all classification thresholds, making it robust for imbalanced data. A perfect model has an AUC of 1, while a random guess scores 0.5. \n",
    "\n",
    "##### The higher the AUC, the better the model can differentiate positive from negative cases."
   ]
  },
  {
   "cell_type": "code",
   "execution_count": 21,
   "metadata": {},
   "outputs": [
    {
     "data": {
      "image/png": "[encoded data removed]",
      "text/plain": [
       "<Figure size 640x480 with 1 Axes>"
      ]
     },
     "metadata": {},
     "output_type": "display_data"
    }
   ],
   "source": [
    "# Calculate ROC metrics\n",
    "y_pred_proba = pipeline.predict_proba(X_test)[::,1]\n",
    "fpr, tpr, _ = roc_curve(y_test, y_pred_proba) #fpr is false positive rate, tpr is true positive rate\n",
    "auc = roc_auc_score(y_test, y_pred_proba)\n",
    "\n",
    "# Plot the ROC curve using RocCurveDisplay\n",
    "roc_viz = RocCurveDisplay.from_estimator(pipeline, X_test, y_test, ax=None, alpha=0.8)\n",
    "plt.plot([0, 1], [0, 1], label='baseline', linestyle='--') # plot the baseline\n",
    "plt.show()"
   ]
  },
  {
   "cell_type": "markdown",
   "metadata": {},
   "source": [
    "##### Based on the chart above, our AUC is 0.87 which is considered very good as it close to 1. It means both population \"mum\" and \" dad\" can be separated well. "
   ]
  },
  {
   "cell_type": "markdown",
   "metadata": {},
   "source": [
    "---\n",
    "##### Overall scores for the best model - Multinomial Naive Bayes with CountVectorizer"
   ]
  },
  {
   "cell_type": "code",
   "execution_count": 22,
   "metadata": {},
   "outputs": [
    {
     "data": {
      "text/plain": [
       "{'F1 score': 0.7311451495258934,\n",
       " 'Precision': 0.755046700813498,\n",
       " 'Sensitivity (Recall)': 0.708710407239819,\n",
       " 'Specificity': 0.8540132878434189,\n",
       " 'Accuracy': 0.7975837451949478}"
      ]
     },
     "execution_count": 22,
     "metadata": {},
     "output_type": "execute_result"
    }
   ],
   "source": [
    "# Scores for the best model\n",
    "\n",
    "{\"F1 score\": f1_score, \"Precision\": precision, \"Sensitivity (Recall)\": sensitivity, \"Specificity\": tn / (tn+fp),\"Accuracy\": ((tp+tn)/(tp+tn+fp+fn)),}"
   ]
  },
  {
   "cell_type": "markdown",
   "metadata": {},
   "source": [
    "##### Based on the scores above, we can conclude that:-\n",
    "\n",
    "##### (1) F1 Score: 0.731 is a best balance of precision and sensitivity based on our model tuning.\n",
    "\n",
    "##### (2) Precision: 0.755 could means that out of 100 comments predicted as \"mum\", 75.5 comments are predicted correctly as mum\n",
    "\n",
    "##### (3) Sensitivity (Recall): 0.708 means that out of 100 comments from mum in the data, 70.8 comments are correctly capture as \"mum\" by our model.\n",
    "\n",
    "##### (4) Specificity: 0.854 means that out of 100 comments from dad in the data, 85.4 comments are correctly capture  as \"dad\" by our model.\n",
    "\n",
    "##### (5) Accuracy: 0.798 means that out of 100 comments in the data, our model correctly classifies 79.8 comments as either true positive or true negative."
   ]
  },
  {
   "cell_type": "markdown",
   "metadata": {},
   "source": [
    "---\n",
    "### 3.6 Save it as Pickle"
   ]
  },
  {
   "cell_type": "code",
   "execution_count": 23,
   "metadata": {},
   "outputs": [],
   "source": [
    "# save it as Pickle for streamlit purpose\n",
    "    \n",
    "import pickle\n",
    "\n",
    "#To write out the pickle file\n",
    "with open('../datasets/final_model.pkl', 'wb') as handle:\n",
    "    pickle.dump(pipeline, handle)"
   ]
  },
  {
   "cell_type": "markdown",
   "metadata": {},
   "source": [
    "---\n",
    "#### Limitation\n",
    "\n",
    "##### - Unable to identify localized words\n",
    "The model was trained on data from the global subreddits r/daddit and r/Mummit.\n",
    "\n",
    "##### - Performance of the model is constrained by limitations in the Naive Bayes and Logistics Regression approach.\n",
    "Exhaustive tuning did not yield substantial improvements."
   ]
  },
  {
   "cell_type": "markdown",
   "metadata": {},
   "source": [
    "---\n",
    "### 3.7 Recommendations\n",
    "\n",
    "##### - **With more resources:**\n",
    "We can acquire more localized data from either from other social media platforms or forums.\n",
    "For example: Picking up Singlish.\n",
    "\n",
    "##### - **Use more complex models such as Random Forest or XGBoost.**\n",
    "To have more accurate classification"
   ]
  },
  {
   "cell_type": "markdown",
   "metadata": {},
   "source": [
    "---\n",
    "### 3.8 Conclusion\n",
    "\n",
    "##### Our model (Multinomial Naive Bayes with CountVectorizer) demonstrates strong performance in classifying posts from subreddits to identify whether they were written by a mum or dad. However, there's room for further improvement using the following ideas: \n",
    "\n",
    "- We can acquire more localized data from either from other social media platforms or forums.\n",
    "\n",
    "- Use more complex models such as Random Forest or XGBoost to have more accurate classification."
   ]
  },
  {
   "cell_type": "markdown",
   "metadata": {},
   "source": [
    "#### Next Notebook: [4.0 Model Test](./4.0%20Model%20Test.ipynb)"
   ]
  }
 ],
 "metadata": {
  "kernelspec": {
   "display_name": "Python 3 (ipykernel)",
   "language": "python",
   "name": "python3"
  },
  "language_info": {
   "codemirror_mode": {
    "name": "ipython",
    "version": 3
   },
   "file_extension": ".py",
   "mimetype": "text/x-python",
   "name": "python",
   "nbconvert_exporter": "python",
   "pygments_lexer": "ipython3",
   "version": "3.11.5"
  }
 },
 "nbformat": 4,
 "nbformat_minor": 2
}
